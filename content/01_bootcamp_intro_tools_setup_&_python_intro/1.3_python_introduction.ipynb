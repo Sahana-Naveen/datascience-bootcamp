{
 "cells": [
  {
   "cell_type": "markdown",
   "id": "f999d05d-408b-4980-b2dc-ba41292b8a87",
   "metadata": {},
   "source": [
    "# 1.3 Python Introduction"
   ]
  },
  {
   "cell_type": "markdown",
   "id": "41f8368f-ee6f-4760-bd90-b5fc09342728",
   "metadata": {},
   "source": [
    "The materials of this notebook are heavily based on the Datacamp \"Introduction to Python for Data Science\" course. Check the course [here](app.datacamp.com/learn/courses/intro-to-python-for-data-science)."
   ]
  },
  {
   "cell_type": "markdown",
   "id": "31b69fae-1a9d-4b34-9ee8-0dc40381b878",
   "metadata": {},
   "source": [
    "Python is a general-purpose programming language that is becoming ever more popular for data science. Companies worldwide are using Python to harvest insights from their data and gain a competitive edge. This notebook will focus particularly on an introduction to Python from a data science perspective. You will get to see powerful ways to store and manipulate data and learn about helpful tools to begin conducting your own analyses."
   ]
  },
  {
   "cell_type": "markdown",
   "id": "8cf5df16-20f7-4753-829a-ef42427444e0",
   "metadata": {},
   "source": [
    "Python\n",
    "- general purpose (build anything; swiss army knife)\n",
    "- open source (free)\n",
    "- Python ecosystem (packages for data science; community; easy to build new packages)"
   ]
  },
  {
   "cell_type": "markdown",
   "id": "daf5b3be-e9d8-47db-8028-afa39e244b3d",
   "metadata": {},
   "source": [
    "## Calculations"
   ]
  },
  {
   "cell_type": "code",
   "execution_count": 3,
   "id": "ebaf53ab-1806-446a-ad68-41a0cad42ec6",
   "metadata": {},
   "outputs": [
    {
     "name": "stdout",
     "output_type": "stream",
     "text": [
      "3\n"
     ]
    }
   ],
   "source": [
    "# Addition (hashtag indicates a comment)\n",
    "print(1 + 2)\n",
    "\n",
    "# Subtraction\n",
    "print(2 - 1)\n",
    "\n",
    "# Multiplication, division, modulo and exponentiation\n",
    "print(3 * 5)\n",
    "print(10 / 2)\n",
    "print(18 % 7)\n",
    "print(4 ** 2)"
   ]
  },
  {
   "cell_type": "code",
   "execution_count": null,
   "id": "bd74544b-7134-4b99-a9cf-a4ffcfa8da01",
   "metadata": {},
   "outputs": [],
   "source": [
    "### TO DO ###\n",
    "'''\n",
    "Suppose you have $100 which you can invest with a 10% return each year.\n",
    "Add code to calculate how much money you end up with after 7 years and print the result\n",
    "'''"
   ]
  },
  {
   "cell_type": "markdown",
   "id": "6bdbfaea-bdd5-4dd5-bd16-cb07c981da45",
   "metadata": {},
   "source": [
    "## Variables and Types"
   ]
  },
  {
   "cell_type": "markdown",
   "id": "77554628-a5f5-41fd-9919-2d047a8af745",
   "metadata": {},
   "source": [
    "- Save values and call them up later\n",
    "- Specific, case-sensitive name"
   ]
  },
  {
   "cell_type": "code",
   "execution_count": 5,
   "id": "a40be7cf-f7eb-486e-8cd1-d2dc25ce4dbf",
   "metadata": {},
   "outputs": [
    {
     "name": "stdout",
     "output_type": "stream",
     "text": [
      "21.44127836209856\n"
     ]
    }
   ],
   "source": [
    "height = 1.79\n",
    "weight = 68.7\n",
    "bmi = weight / height ** 2\n",
    "print(bmi)"
   ]
  },
  {
   "cell_type": "code",
   "execution_count": 6,
   "id": "f3cb197a-9f15-452a-8844-49bfe4a57b39",
   "metadata": {},
   "outputs": [
    {
     "data": {
      "text/plain": [
       "float"
      ]
     },
     "execution_count": 6,
     "metadata": {},
     "output_type": "execute_result"
    }
   ],
   "source": [
    "# Floats\n",
    "type(bmi)"
   ]
  },
  {
   "cell_type": "code",
   "execution_count": 12,
   "id": "fb2f417b-58d7-4a82-8c99-86ba1748365c",
   "metadata": {},
   "outputs": [
    {
     "name": "stdout",
     "output_type": "stream",
     "text": [
      "<class 'int'>\n",
      "5\n"
     ]
    }
   ],
   "source": [
    "# Integers\n",
    "day_of_week = 5\n",
    "print(type(day_of_week))\n",
    "print(2 + 3)"
   ]
  },
  {
   "cell_type": "code",
   "execution_count": 13,
   "id": "5cf53667-53d0-47f6-a4af-fe2b07190695",
   "metadata": {},
   "outputs": [
    {
     "name": "stdout",
     "output_type": "stream",
     "text": [
      "<class 'str'>\n",
      "body mass indexabc\n"
     ]
    }
   ],
   "source": [
    "# Strings\n",
    "x = \"body mass index\"\n",
    "y = \"abc\"\n",
    "print(type(x))\n",
    "print(x + y) # operator action depends on data type"
   ]
  },
  {
   "cell_type": "code",
   "execution_count": 11,
   "id": "3fd54de4-fc50-4889-bbce-19ccaf19855b",
   "metadata": {},
   "outputs": [
    {
     "data": {
      "text/plain": [
       "bool"
      ]
     },
     "execution_count": 11,
     "metadata": {},
     "output_type": "execute_result"
    }
   ],
   "source": [
    "# Booleans\n",
    "z = True\n",
    "type(z)"
   ]
  },
  {
   "cell_type": "code",
   "execution_count": 23,
   "id": "a8766ae2-a49d-4377-bf56-3ca3b34d1acc",
   "metadata": {},
   "outputs": [
    {
     "name": "stdout",
     "output_type": "stream",
     "text": [
      "The body mass index is 21.44127836209856!\n",
      "3.1415926\n",
      "3.1415926\n",
      "3\n",
      "True\n"
     ]
    }
   ],
   "source": [
    "# Type conversion\n",
    "print(\"The body mass index is \" + str(bmi) + \"!\")\n",
    "\n",
    "pi_string = \"3.1415926\"\n",
    "pi_float = float(pi_string)\n",
    "pi_int = int(pi_float)\n",
    "pi_bool = bool(pi_int)\n",
    "print(pi_string)\n",
    "print(pi_float)\n",
    "print(pi_int)\n",
    "print(pi_bool)"
   ]
  },
  {
   "cell_type": "code",
   "execution_count": 24,
   "id": "34d7fb8c-59dd-42e0-855f-3a3be8dd017a",
   "metadata": {},
   "outputs": [
    {
     "name": "stdout",
     "output_type": "stream",
     "text": [
      "I can add integers, like 5 to strings.\n"
     ]
    }
   ],
   "source": [
    "print(\"I can add integers, like \" + str(5) + \" to strings.\")"
   ]
  },
  {
   "cell_type": "code",
   "execution_count": 26,
   "id": "d9d575be-8bd9-436d-903e-24ac75ea43c1",
   "metadata": {},
   "outputs": [
    {
     "name": "stdout",
     "output_type": "stream",
     "text": [
      "I said Hey Hey Hey!\n"
     ]
    }
   ],
   "source": [
    "print(\"I said \" + (\"Hey \" * 2) + \"Hey!\")"
   ]
  },
  {
   "cell_type": "code",
   "execution_count": 28,
   "id": "6893c12d-306a-41b8-b80b-602af3940aa3",
   "metadata": {},
   "outputs": [
    {
     "ename": "TypeError",
     "evalue": "can only concatenate str (not \"int\") to str",
     "output_type": "error",
     "traceback": [
      "\u001b[0;31m---------------------------------------------------------------------------\u001b[0m",
      "\u001b[0;31mTypeError\u001b[0m                                 Traceback (most recent call last)",
      "Input \u001b[0;32mIn [28]\u001b[0m, in \u001b[0;36m<cell line: 1>\u001b[0;34m()\u001b[0m\n\u001b[0;32m----> 1\u001b[0m \u001b[38;5;28mprint\u001b[39m(\u001b[38;5;124;43m\"\u001b[39;49m\u001b[38;5;124;43mCan I add an integer like this to a string \u001b[39;49m\u001b[38;5;124;43m\"\u001b[39;49m\u001b[43m \u001b[49m\u001b[38;5;241;43m+\u001b[39;49m\u001b[43m \u001b[49m\u001b[38;5;241;43m5\u001b[39;49m)\n",
      "\u001b[0;31mTypeError\u001b[0m: can only concatenate str (not \"int\") to str"
     ]
    }
   ],
   "source": [
    "print(\"Can I add an integer like this to a string \" + 5)"
   ]
  },
  {
   "cell_type": "code",
   "execution_count": 30,
   "id": "46023244-93fc-4636-b562-a37fa591a73d",
   "metadata": {},
   "outputs": [
    {
     "name": "stdout",
     "output_type": "stream",
     "text": [
      "2\n"
     ]
    }
   ],
   "source": [
    "print(True + False + True)"
   ]
  },
  {
   "cell_type": "code",
   "execution_count": null,
   "id": "8ad3615d-add6-4b03-8fa1-77197c54e6ab",
   "metadata": {},
   "outputs": [],
   "source": [
    "### TO DO ###\n",
    "'''\n",
    "Create a variable called \"savings\" with the value 100 and print it.\n",
    "Create a variable called \"growth_multiplier\" with the value 1.1.\n",
    "Create a variable result to store the result of the calculation that you did in the previous to do.\n",
    "Print out the result.\n",
    "Create a new string called \"desc\" with the value \"compound interest\".\n",
    "Create a new boolean called \"profitable\" with the value True.\n",
    "Print out the type of the savings and growth_multiplier variables.\n",
    "'''"
   ]
  },
  {
   "cell_type": "markdown",
   "id": "a7d0e880-7969-40ef-88ad-3de1783d9f41",
   "metadata": {},
   "source": [
    "## Lists"
   ]
  },
  {
   "cell_type": "markdown",
   "id": "40b70b17-d734-4466-8f68-4b146810a128",
   "metadata": {},
   "source": [
    "- Work with many data points -> store in list\n",
    "- Give a single name to collection of values\n",
    "- Mixed data types possible (even nested lists)\n",
    "- List is a data type with specific functionality and behavior"
   ]
  },
  {
   "cell_type": "code",
   "execution_count": 37,
   "id": "e843bc73-5871-4f40-bfff-0d37112c7fd7",
   "metadata": {},
   "outputs": [],
   "source": [
    "fam = [1.73, 1.68, 1.71, 1.89]"
   ]
  },
  {
   "cell_type": "code",
   "execution_count": 32,
   "id": "f37a35b0-4b6c-4b40-a72f-35b824f1dda7",
   "metadata": {},
   "outputs": [],
   "source": [
    "fam2 = [[\"liz\", 1.73],\n",
    "        [\"emma\", 1.68],\n",
    "        [\"mom\", 1.71],\n",
    "        [\"dad\", 1.89]]"
   ]
  },
  {
   "cell_type": "code",
   "execution_count": null,
   "id": "8983301f-0dd5-4786-b4f7-f4001461eece",
   "metadata": {},
   "outputs": [],
   "source": [
    "print(type(fam))"
   ]
  },
  {
   "cell_type": "code",
   "execution_count": null,
   "id": "48dfcd7e-2e76-4cca-b60e-bde22e568e52",
   "metadata": {},
   "outputs": [],
   "source": [
    "print(type(fam2))"
   ]
  },
  {
   "cell_type": "code",
   "execution_count": null,
   "id": "3c4ea30b-0b47-4bf0-be7c-698ef4fa20b9",
   "metadata": {},
   "outputs": [],
   "source": [
    "### TO DO ###\n",
    "'''\n",
    "Create a list called \"areas\" and store the area size of the following rooms in it\n",
    "in this order: hallway, kitchen, living room, bedroom, bathroom.\n",
    "Print the list.\n",
    "Now create a list with mixed data types by adding the room name as string before the\n",
    "area sizes respectively.\n",
    "Next create a list of lists with each room name and area size in a seperate list.\n",
    "'''"
   ]
  },
  {
   "cell_type": "code",
   "execution_count": 42,
   "id": "1e22ad82-2b29-45ab-a366-0936a36461c2",
   "metadata": {},
   "outputs": [
    {
     "name": "stdout",
     "output_type": "stream",
     "text": [
      "1.73\n",
      "1.89\n",
      "[1.68, 1.71]\n",
      "[1.73, 1.68, 1.71]\n",
      "[1.71, 1.89]\n"
     ]
    }
   ],
   "source": [
    "# Subsetting lists\n",
    "print(fam[0]) # 0-indexing\n",
    "print(fam[-1])\n",
    "\n",
    "# List slicing\n",
    "print(fam[1:3]) # start is inclusive, end is exclusive\n",
    "print(fam[:3])\n",
    "print(fam[2:])"
   ]
  },
  {
   "cell_type": "code",
   "execution_count": null,
   "id": "c922856d-0ec1-4389-9794-88ac9f721e5c",
   "metadata": {},
   "outputs": [],
   "source": [
    "### TO DO ###\n",
    "'''\n",
    "Print out the area of the living room from the mixed data type list.\n",
    "Using a combination of list subsetting and variable assignment, create a new variable called eat_sleep_area\n",
    "that contains the sum of the area of the kitchen and the area of the bedroom.\n",
    "Use slicing to create a list called downstairs that contains the first 6 elements of areas.\n",
    "Simplify slicing by omitting the begin index.\n",
    "Print this list.\n",
    "Subset list of lists by retrieving just the area of the kitchen of the nested list.\n",
    "'''"
   ]
  },
  {
   "cell_type": "code",
   "execution_count": 43,
   "id": "6934740a-28b2-4736-bc86-02ba48afbcb7",
   "metadata": {},
   "outputs": [
    {
     "ename": "IndexError",
     "evalue": "list assignment index out of range",
     "output_type": "error",
     "traceback": [
      "\u001b[0;31m---------------------------------------------------------------------------\u001b[0m",
      "\u001b[0;31mIndexError\u001b[0m                                Traceback (most recent call last)",
      "Input \u001b[0;32mIn [43]\u001b[0m, in \u001b[0;36m<cell line: 3>\u001b[0;34m()\u001b[0m\n\u001b[1;32m      1\u001b[0m \u001b[38;5;66;03m# Manipulating lists\u001b[39;00m\n\u001b[1;32m      2\u001b[0m \u001b[38;5;66;03m# Change list elements\u001b[39;00m\n\u001b[0;32m----> 3\u001b[0m fam[\u001b[38;5;241m7\u001b[39m] \u001b[38;5;241m=\u001b[39m \u001b[38;5;241m1.87\u001b[39m\n\u001b[1;32m      4\u001b[0m fam[\u001b[38;5;241m0\u001b[39m:\u001b[38;5;241m2\u001b[39m] \u001b[38;5;241m=\u001b[39m [\u001b[38;5;124m\"\u001b[39m\u001b[38;5;124mliz\u001b[39m\u001b[38;5;124m\"\u001b[39m, \u001b[38;5;241m1.72\u001b[39m]\n\u001b[1;32m      6\u001b[0m \u001b[38;5;66;03m# Add list elements\u001b[39;00m\n",
      "\u001b[0;31mIndexError\u001b[0m: list assignment index out of range"
     ]
    }
   ],
   "source": [
    "# Manipulating lists\n",
    "# Change list elements\n",
    "fam2[7] = 1.87\n",
    "fam2[0:2] = [\"liz\", 1.72]\n",
    "\n",
    "# Add list elements\n",
    "fam_ext = fam2 + [\"me\", 1.79]\n",
    "\n",
    "# Remove list elements\n",
    "del(fam2[2])\n",
    "print(fam2)"
   ]
  },
  {
   "cell_type": "code",
   "execution_count": 46,
   "id": "31ad5888-7b8d-466d-b286-1cb0132ade0b",
   "metadata": {},
   "outputs": [
    {
     "name": "stdout",
     "output_type": "stream",
     "text": [
      "['a', 'z', 'c']\n",
      "['a', 'z', 'c']\n",
      "['a', 'z', 'c']\n",
      "['a', 'b', 'c']\n"
     ]
    }
   ],
   "source": [
    "# Behind the scenes\n",
    "x = [\"a\", \"b\", \"c\"]\n",
    "y = x # copy reference to list, not actual values; in terms of computer memory it is the same\n",
    "y[1] = \"z\"\n",
    "print(y)\n",
    "print(x)\n",
    "\n",
    "x = [\"a\", \"b\", \"c\"]\n",
    "y = list(x)\n",
    "y = x[:]\n",
    "y[1] = \"z\"\n",
    "print(y)\n",
    "print(x)"
   ]
  },
  {
   "cell_type": "code",
   "execution_count": null,
   "id": "010434d5-449f-44b4-a2bb-f5e9b676a4c2",
   "metadata": {},
   "outputs": [],
   "source": [
    "## TO DO ##\n",
    "'''\n",
    "Update the area of the bathroom in your list to be 10.50 m².\n",
    "Change \"living room\" to \"chill zone\".\n",
    "Add a poolhouse and garage to your list and store the resulting list as areas_new.\n",
    "Delete the poolhouse and corresponding area from the list areas_new.\n",
    "'''"
   ]
  },
  {
   "cell_type": "markdown",
   "id": "1e9b1de0-3ce1-4034-bb7d-aef907af2687",
   "metadata": {},
   "source": [
    "## Functions"
   ]
  },
  {
   "cell_type": "markdown",
   "id": "0fa4688d-6107-43f4-8423-7325a7712aa7",
   "metadata": {},
   "source": [
    "- Noting new, e.g. type()\n",
    "- Piece of reusable code\n",
    "- Solves particular task\n",
    "- Leverage functions instead of writing custom code"
   ]
  },
  {
   "cell_type": "code",
   "execution_count": 48,
   "id": "a74f34d6-8e10-4d8a-890d-976f40d769ce",
   "metadata": {},
   "outputs": [
    {
     "name": "stdout",
     "output_type": "stream",
     "text": [
      "1.89\n"
     ]
    }
   ],
   "source": [
    "tallest = max(fam) # logic is abstracted\n",
    "print(tallest)"
   ]
  },
  {
   "cell_type": "code",
   "execution_count": 50,
   "id": "33969ee4-a45d-4cba-9d17-2e741882e195",
   "metadata": {},
   "outputs": [
    {
     "name": "stdout",
     "output_type": "stream",
     "text": [
      "1.7\n",
      "2\n"
     ]
    }
   ],
   "source": [
    "print(round(1.68, 1))\n",
    "print(round(1.68)) # default arguments"
   ]
  },
  {
   "cell_type": "code",
   "execution_count": 51,
   "id": "9780810d-14d2-4edf-b33b-915e44f7f623",
   "metadata": {},
   "outputs": [
    {
     "name": "stdout",
     "output_type": "stream",
     "text": [
      "Help on built-in function round in module builtins:\n",
      "\n",
      "round(number, ndigits=None)\n",
      "    Round a number to a given precision in decimal digits.\n",
      "    \n",
      "    The return value is an integer if ndigits is omitted or None.  Otherwise\n",
      "    the return value has the same type as the number.  ndigits may be negative.\n",
      "\n"
     ]
    }
   ],
   "source": [
    "help(round)"
   ]
  },
  {
   "cell_type": "code",
   "execution_count": null,
   "id": "6e029db0-bed8-463a-a210-566a1f22803f",
   "metadata": {},
   "outputs": [],
   "source": [
    "# Find functions\n",
    "- standard task -> function probably exists\n",
    "- internet is your friend"
   ]
  },
  {
   "cell_type": "code",
   "execution_count": null,
   "id": "21748a36-e799-4786-a14b-d1e93fa3b085",
   "metadata": {},
   "outputs": [],
   "source": [
    "## TO DO ##\n",
    "'''\n",
    "Print the length of the fam list.\n",
    "Find out what the function pow() is doing.\n",
    "Find out how the function sorted() works.\n",
    "Reverse the number list defined below and print the result.\n",
    "'''\n",
    "numbers = [11.25, 18.0, 20.0, 25.0]"
   ]
  },
  {
   "cell_type": "markdown",
   "id": "a99a0b5d-4d2e-424c-9ddf-bba05dbc96ad",
   "metadata": {},
   "source": [
    "## Methods"
   ]
  },
  {
   "cell_type": "code",
   "execution_count": null,
   "id": "da900bde-4a18-421c-99ad-a739f5c35381",
   "metadata": {},
   "outputs": [],
   "source": []
  }
 ],
 "metadata": {
  "kernelspec": {
   "display_name": "Python 3 (ipykernel)",
   "language": "python",
   "name": "python3"
  },
  "language_info": {
   "codemirror_mode": {
    "name": "ipython",
    "version": 3
   },
   "file_extension": ".py",
   "mimetype": "text/x-python",
   "name": "python",
   "nbconvert_exporter": "python",
   "pygments_lexer": "ipython3",
   "version": "3.9.7"
  }
 },
 "nbformat": 4,
 "nbformat_minor": 5
}
